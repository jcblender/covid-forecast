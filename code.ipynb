{
 "cells": [
  {
   "cell_type": "code",
   "execution_count": 1,
   "metadata": {
    "colab": {
     "base_uri": "https://localhost:8080/",
     "height": 122
    },
    "colab_type": "code",
    "id": "lmyNP12xenAx",
    "outputId": "85f3e48d-9bb1-44a4-8f5a-4a605a0435d3"
   },
   "outputs": [
    {
     "name": "stdout",
     "output_type": "stream",
     "text": [
      "Go to this URL in a browser: https://accounts.google.com/o/oauth2/auth?client_id=947318989803-6bn6qk8qdgf4n4g3pfee6491hc0brc4i.apps.googleusercontent.com&redirect_uri=urn%3aietf%3awg%3aoauth%3a2.0%3aoob&response_type=code&scope=email%20https%3a%2f%2fwww.googleapis.com%2fauth%2fdocs.test%20https%3a%2f%2fwww.googleapis.com%2fauth%2fdrive%20https%3a%2f%2fwww.googleapis.com%2fauth%2fdrive.photos.readonly%20https%3a%2f%2fwww.googleapis.com%2fauth%2fpeopleapi.readonly\n",
      "\n",
      "Enter your authorization code:\n",
      "··········\n",
      "Mounted at /content/drive/\n"
     ]
    }
   ],
   "source": [
    "# connect to google colab\n",
    "from google.colab import drive\n",
    "drive.mount('/content/drive/')"
   ]
  },
  {
   "cell_type": "code",
   "execution_count": 2,
   "metadata": {
    "_cell_guid": "b1076dfc-b9ad-4769-8c92-a6c4dae69d19",
    "_uuid": "8f2839f25d086af736a60e9eeb907d3b93b6e0e5",
    "colab": {
     "base_uri": "https://localhost:8080/",
     "height": 85
    },
    "colab_type": "code",
    "id": "Ow-KQVM5ek5_",
    "outputId": "5533aaff-aab8-47c3-e8b4-bb908ddd5c7f"
   },
   "outputs": [
    {
     "name": "stderr",
     "output_type": "stream",
     "text": [
      "/usr/local/lib/python3.6/dist-packages/statsmodels/tools/_testing.py:19: FutureWarning:\n",
      "\n",
      "pandas.util.testing is deprecated. Use the functions in the public API at pandas.testing instead.\n",
      "\n"
     ]
    }
   ],
   "source": [
    "# ​I confirm that this is my own work, except where clearly indicated.\n",
    "# PCOVID19 Global Forecasting (Week 2)\n",
    "# Author: 190000096\n",
    "# Date: 25.04.2020\n",
    "\n",
    "# general processing\n",
    "import numpy as np\n",
    "import pandas as pd\n",
    "\n",
    "# data visualisation\n",
    "import matplotlib.pyplot as plt\n",
    "import plotly.graph_objects as go\n",
    "import plotly.express as px\n",
    "import missingno as msno\n",
    "import seaborn as sns\n",
    "\n",
    "# categorical feature encoding\n",
    "from sklearn.preprocessing import LabelEncoder\n",
    "\n",
    "# model comparison\n",
    "from sklearn.model_selection import cross_val_score\n",
    "from sklearn.model_selection import train_test_split\n",
    "from sklearn.metrics import mean_squared_error\n",
    "import xgboost\n",
    "from sklearn.linear_model import LinearRegression\n",
    "from sklearn.linear_model import Ridge\n",
    "from sklearn.linear_model import ElasticNet\n",
    "from sklearn.ensemble import RandomForestRegressor\n",
    "\n",
    "# fine tun the model\n",
    "from sklearn.model_selection import GridSearchCV\n",
    "\n",
    "# plot feature importance\n",
    "from xgboost import plot_importance\n",
    "\n",
    "# model assessment\n",
    "from sklearn.model_selection import learning_curve\n",
    "\n",
    "import warnings\n",
    "warnings.filterwarnings(\"ignore\")"
   ]
  },
  {
   "cell_type": "code",
   "execution_count": 0,
   "metadata": {
    "colab": {},
    "colab_type": "code",
    "id": "iewlY2c-ek6O"
   },
   "outputs": [],
   "source": [
    "# load data\n",
    "train = pd.read_csv('/content/drive/My Drive/train12.csv')\n",
    "test = pd.read_csv('/content/drive/My Drive/test12.csv')"
   ]
  },
  {
   "cell_type": "code",
   "execution_count": 0,
   "metadata": {
    "colab": {},
    "colab_type": "code",
    "id": "oRjp_ej6ek6S"
   },
   "outputs": [],
   "source": [
    "# backup the test set\n",
    "test1 = test"
   ]
  },
  {
   "cell_type": "code",
   "execution_count": 5,
   "metadata": {
    "colab": {
     "base_uri": "https://localhost:8080/",
     "height": 204
    },
    "colab_type": "code",
    "id": "lyRjMpjvek6W",
    "outputId": "5c4651ef-5535-4413-e6c1-a762cd2ceded"
   },
   "outputs": [
    {
     "data": {
      "text/html": [
       "<div>\n",
       "<style scoped>\n",
       "    .dataframe tbody tr th:only-of-type {\n",
       "        vertical-align: middle;\n",
       "    }\n",
       "\n",
       "    .dataframe tbody tr th {\n",
       "        vertical-align: top;\n",
       "    }\n",
       "\n",
       "    .dataframe thead th {\n",
       "        text-align: right;\n",
       "    }\n",
       "</style>\n",
       "<table border=\"1\" class=\"dataframe\">\n",
       "  <thead>\n",
       "    <tr style=\"text-align: right;\">\n",
       "      <th></th>\n",
       "      <th>Id</th>\n",
       "      <th>Province_State</th>\n",
       "      <th>Country_Region</th>\n",
       "      <th>Date</th>\n",
       "      <th>ConfirmedCases</th>\n",
       "      <th>Fatalities</th>\n",
       "    </tr>\n",
       "  </thead>\n",
       "  <tbody>\n",
       "    <tr>\n",
       "      <th>0</th>\n",
       "      <td>1</td>\n",
       "      <td>NaN</td>\n",
       "      <td>Afghanistan</td>\n",
       "      <td>2020-01-22</td>\n",
       "      <td>0.0</td>\n",
       "      <td>0.0</td>\n",
       "    </tr>\n",
       "    <tr>\n",
       "      <th>1</th>\n",
       "      <td>2</td>\n",
       "      <td>NaN</td>\n",
       "      <td>Afghanistan</td>\n",
       "      <td>2020-01-23</td>\n",
       "      <td>0.0</td>\n",
       "      <td>0.0</td>\n",
       "    </tr>\n",
       "    <tr>\n",
       "      <th>2</th>\n",
       "      <td>3</td>\n",
       "      <td>NaN</td>\n",
       "      <td>Afghanistan</td>\n",
       "      <td>2020-01-24</td>\n",
       "      <td>0.0</td>\n",
       "      <td>0.0</td>\n",
       "    </tr>\n",
       "    <tr>\n",
       "      <th>3</th>\n",
       "      <td>4</td>\n",
       "      <td>NaN</td>\n",
       "      <td>Afghanistan</td>\n",
       "      <td>2020-01-25</td>\n",
       "      <td>0.0</td>\n",
       "      <td>0.0</td>\n",
       "    </tr>\n",
       "    <tr>\n",
       "      <th>4</th>\n",
       "      <td>5</td>\n",
       "      <td>NaN</td>\n",
       "      <td>Afghanistan</td>\n",
       "      <td>2020-01-26</td>\n",
       "      <td>0.0</td>\n",
       "      <td>0.0</td>\n",
       "    </tr>\n",
       "  </tbody>\n",
       "</table>\n",
       "</div>"
      ],
      "text/plain": [
       "   Id Province_State Country_Region        Date  ConfirmedCases  Fatalities\n",
       "0   1            NaN    Afghanistan  2020-01-22             0.0         0.0\n",
       "1   2            NaN    Afghanistan  2020-01-23             0.0         0.0\n",
       "2   3            NaN    Afghanistan  2020-01-24             0.0         0.0\n",
       "3   4            NaN    Afghanistan  2020-01-25             0.0         0.0\n",
       "4   5            NaN    Afghanistan  2020-01-26             0.0         0.0"
      ]
     },
     "execution_count": 5,
     "metadata": {
      "tags": []
     },
     "output_type": "execute_result"
    }
   ],
   "source": [
    "train.head(5)"
   ]
  },
  {
   "cell_type": "code",
   "execution_count": 6,
   "metadata": {
    "colab": {
     "base_uri": "https://localhost:8080/",
     "height": 204
    },
    "colab_type": "code",
    "id": "J8sSGlgVek6a",
    "outputId": "07192bcd-eaed-4ae0-f2aa-14d98a1b2ba0"
   },
   "outputs": [
    {
     "data": {
      "text/html": [
       "<div>\n",
       "<style scoped>\n",
       "    .dataframe tbody tr th:only-of-type {\n",
       "        vertical-align: middle;\n",
       "    }\n",
       "\n",
       "    .dataframe tbody tr th {\n",
       "        vertical-align: top;\n",
       "    }\n",
       "\n",
       "    .dataframe thead th {\n",
       "        text-align: right;\n",
       "    }\n",
       "</style>\n",
       "<table border=\"1\" class=\"dataframe\">\n",
       "  <thead>\n",
       "    <tr style=\"text-align: right;\">\n",
       "      <th></th>\n",
       "      <th>ForecastId</th>\n",
       "      <th>Province_State</th>\n",
       "      <th>Country_Region</th>\n",
       "      <th>Date</th>\n",
       "    </tr>\n",
       "  </thead>\n",
       "  <tbody>\n",
       "    <tr>\n",
       "      <th>0</th>\n",
       "      <td>1</td>\n",
       "      <td>NaN</td>\n",
       "      <td>Afghanistan</td>\n",
       "      <td>2020-03-19</td>\n",
       "    </tr>\n",
       "    <tr>\n",
       "      <th>1</th>\n",
       "      <td>2</td>\n",
       "      <td>NaN</td>\n",
       "      <td>Afghanistan</td>\n",
       "      <td>2020-03-20</td>\n",
       "    </tr>\n",
       "    <tr>\n",
       "      <th>2</th>\n",
       "      <td>3</td>\n",
       "      <td>NaN</td>\n",
       "      <td>Afghanistan</td>\n",
       "      <td>2020-03-21</td>\n",
       "    </tr>\n",
       "    <tr>\n",
       "      <th>3</th>\n",
       "      <td>4</td>\n",
       "      <td>NaN</td>\n",
       "      <td>Afghanistan</td>\n",
       "      <td>2020-03-22</td>\n",
       "    </tr>\n",
       "    <tr>\n",
       "      <th>4</th>\n",
       "      <td>5</td>\n",
       "      <td>NaN</td>\n",
       "      <td>Afghanistan</td>\n",
       "      <td>2020-03-23</td>\n",
       "    </tr>\n",
       "  </tbody>\n",
       "</table>\n",
       "</div>"
      ],
      "text/plain": [
       "   ForecastId Province_State Country_Region        Date\n",
       "0           1            NaN    Afghanistan  2020-03-19\n",
       "1           2            NaN    Afghanistan  2020-03-20\n",
       "2           3            NaN    Afghanistan  2020-03-21\n",
       "3           4            NaN    Afghanistan  2020-03-22\n",
       "4           5            NaN    Afghanistan  2020-03-23"
      ]
     },
     "execution_count": 6,
     "metadata": {
      "tags": []
     },
     "output_type": "execute_result"
    }
   ],
   "source": [
    "test.head(5)"
   ]
  },
  {
   "cell_type": "markdown",
   "metadata": {
    "colab_type": "text",
    "id": "Reff2GSigFsG"
   },
   "source": [
    "## **Add an external Dataset** ##\n",
    "\n",
    "\n",
    "\n"
   ]
  },
  {
   "cell_type": "code",
   "execution_count": 0,
   "metadata": {
    "colab": {},
    "colab_type": "code",
    "id": "9VgclKpagPE5"
   },
   "outputs": [],
   "source": [
    "# read country infomation\n",
    "country_stat = pd.read_csv('/content/drive/My Drive/covid19countryinfo.csv')\n",
    "country_stat = country_stat[country_stat['region'].isnull()]"
   ]
  },
  {
   "cell_type": "code",
   "execution_count": 0,
   "metadata": {
    "colab": {},
    "colab_type": "code",
    "id": "rA4tyENBfMJm"
   },
   "outputs": [],
   "source": [
    "# add useful country features to the data set\n",
    "# Reference: https://www.kaggle.com/resheto/covid-19-prediction-of-deltas-using-extended-data/output\n",
    "def add_country_stat(old_df):\n",
    "    df = old_df.copy()\n",
    "    df = df.merge(country_stat[[\n",
    "        'country', 'pop', 'medianage', 'sex65plus', 'lung', 'smokers',\n",
    "        'density'\n",
    "    ]],\n",
    "                  left_on=['Country_Region'],\n",
    "                  right_on=['country'],\n",
    "                  how='left')\n",
    "    df.drop(columns=['country'], inplace=True)\n",
    "    df['pop'] = df['pop'].fillna(1000)\n",
    "    df['pop'] = df['pop'].apply(lambda x: int(str(x).replace(',', '')))\n",
    "    df['density'] = df['density'].fillna(0)\n",
    "    df['medianage'] = df['medianage'].fillna(0)\n",
    "    df['sex65plus'] = df['sex65plus'].fillna(1)\n",
    "    df['lung'] = df['lung'].fillna(24)\n",
    "    df['smokers'] = df['smokers'].fillna(24)\n",
    "\n",
    "    return df"
   ]
  },
  {
   "cell_type": "code",
   "execution_count": 0,
   "metadata": {
    "colab": {},
    "colab_type": "code",
    "id": "UNXrkrfjfNGu"
   },
   "outputs": [],
   "source": [
    "train = add_country_stat(train)\n",
    "test = add_country_stat(test)"
   ]
  },
  {
   "cell_type": "markdown",
   "metadata": {
    "colab_type": "text",
    "id": "gPcsDBz8gaWU"
   },
   "source": [
    "## **Data Visaulisation** ##"
   ]
  },
  {
   "cell_type": "code",
   "execution_count": 10,
   "metadata": {
    "colab": {
     "base_uri": "https://localhost:8080/",
     "height": 51
    },
    "colab_type": "code",
    "id": "spH2AvuZWhBw",
    "outputId": "b5bf56cf-df5a-4ecc-f003-9052bef6a84c"
   },
   "outputs": [
    {
     "name": "stdout",
     "output_type": "stream",
     "text": [
      "Number of countries included in dataset: 173\n",
      "Date Range is from  2020-01-22 to 2020-03-31\n"
     ]
    }
   ],
   "source": [
    "# have a general view of the data\n",
    "print(\"Number of countries included in dataset:\",\n",
    "      train.Country_Region.nunique())\n",
    "print(\"Date Range is from \", train.Date.min(), \"to\", train.Date.max())"
   ]
  },
  {
   "cell_type": "code",
   "execution_count": 0,
   "metadata": {
    "colab": {},
    "colab_type": "code",
    "id": "1pA0mGc8kXu6"
   },
   "outputs": [],
   "source": [
    "# plot daily world trend\n",
    "total = train.groupby(['Date']).sum().reset_index(drop=False)\n",
    "total = total[[\"Date\", \"ConfirmedCases\", \"Fatalities\"]]"
   ]
  },
  {
   "cell_type": "code",
   "execution_count": 12,
   "metadata": {
    "colab": {
     "base_uri": "https://localhost:8080/",
     "height": 369
    },
    "colab_type": "code",
    "id": "RgVbRjJnnYt0",
    "outputId": "fee40aef-a211-4d46-bda4-ce4ba12b7d5f"
   },
   "outputs": [
    {
     "data": {
      "image/png": "[encoded data removed]",
      "text/plain": [
       "<Figure size 1008x360 with 2 Axes>"
      ]
     },
     "metadata": {
      "needs_background": "light",
      "tags": []
     },
     "output_type": "display_data"
    }
   ],
   "source": [
    "plt.figure(figsize=(14, 5))\n",
    "plt.subplot(1, 2, 1)\n",
    "total.groupby('Date')['ConfirmedCases'].sum().plot(color='blue')\n",
    "plt.ylabel('Number of Confirmed Cases')\n",
    "plt.title('Confirmed Cases worldwide trend')\n",
    "\n",
    "plt.subplot(1, 2, 2)\n",
    "total.groupby('Date')['Fatalities'].sum().plot(color='red')\n",
    "plt.ylabel('Number of Fatalities')\n",
    "plt.title(\"Fatalities worldwide trend\")\n",
    "plt.tight_layout()"
   ]
  },
  {
   "cell_type": "code",
   "execution_count": 13,
   "metadata": {
    "colab": {
     "base_uri": "https://localhost:8080/",
     "height": 355
    },
    "colab_type": "code",
    "id": "JFzHSD9KD5t4",
    "outputId": "553c6085-734a-4c7b-ab0e-6ad8f18b468a"
   },
   "outputs": [
    {
     "data": {
      "text/html": [
       "<style  type=\"text/css\" >\n",
       "    #T_5d8e260e_8eba_11ea_91f2_0242ac1c0002row0_col1 {\n",
       "            background-color:  #ff0000;\n",
       "            color:  #f1f1f1;\n",
       "        }    #T_5d8e260e_8eba_11ea_91f2_0242ac1c0002row0_col2 {\n",
       "            background-color:  #ff0000;\n",
       "            color:  #f1f1f1;\n",
       "        }    #T_5d8e260e_8eba_11ea_91f2_0242ac1c0002row1_col1 {\n",
       "            background-color:  #ff4d27;\n",
       "            color:  #000000;\n",
       "        }    #T_5d8e260e_8eba_11ea_91f2_0242ac1c0002row1_col2 {\n",
       "            background-color:  #dbd87b;\n",
       "            color:  #000000;\n",
       "        }    #T_5d8e260e_8eba_11ea_91f2_0242ac1c0002row2_col1 {\n",
       "            background-color:  #e4cf74;\n",
       "            color:  #000000;\n",
       "        }    #T_5d8e260e_8eba_11ea_91f2_0242ac1c0002row2_col2 {\n",
       "            background-color:  #4659fb;\n",
       "            color:  #f1f1f1;\n",
       "        }    #T_5d8e260e_8eba_11ea_91f2_0242ac1c0002row3_col1 {\n",
       "            background-color:  #cee184;\n",
       "            color:  #000000;\n",
       "        }    #T_5d8e260e_8eba_11ea_91f2_0242ac1c0002row3_col2 {\n",
       "            background-color:  #6629fe;\n",
       "            color:  #f1f1f1;\n",
       "        }    #T_5d8e260e_8eba_11ea_91f2_0242ac1c0002row4_col1 {\n",
       "            background-color:  #bbee91;\n",
       "            color:  #000000;\n",
       "        }    #T_5d8e260e_8eba_11ea_91f2_0242ac1c0002row4_col2 {\n",
       "            background-color:  #01b3ec;\n",
       "            color:  #000000;\n",
       "        }    #T_5d8e260e_8eba_11ea_91f2_0242ac1c0002row5_col1 {\n",
       "            background-color:  #68fcc1;\n",
       "            color:  #000000;\n",
       "        }    #T_5d8e260e_8eba_11ea_91f2_0242ac1c0002row5_col2 {\n",
       "            background-color:  #0dc2e8;\n",
       "            color:  #000000;\n",
       "        }    #T_5d8e260e_8eba_11ea_91f2_0242ac1c0002row6_col1 {\n",
       "            background-color:  #40ecd4;\n",
       "            color:  #000000;\n",
       "        }    #T_5d8e260e_8eba_11ea_91f2_0242ac1c0002row6_col2 {\n",
       "            background-color:  #0ea5ef;\n",
       "            color:  #000000;\n",
       "        }    #T_5d8e260e_8eba_11ea_91f2_0242ac1c0002row7_col1 {\n",
       "            background-color:  #2489f5;\n",
       "            color:  #000000;\n",
       "        }    #T_5d8e260e_8eba_11ea_91f2_0242ac1c0002row7_col2 {\n",
       "            background-color:  #3c68f9;\n",
       "            color:  #000000;\n",
       "        }    #T_5d8e260e_8eba_11ea_91f2_0242ac1c0002row8_col1 {\n",
       "            background-color:  #5247fc;\n",
       "            color:  #f1f1f1;\n",
       "        }    #T_5d8e260e_8eba_11ea_91f2_0242ac1c0002row8_col2 {\n",
       "            background-color:  #7413ff;\n",
       "            color:  #f1f1f1;\n",
       "        }    #T_5d8e260e_8eba_11ea_91f2_0242ac1c0002row9_col1 {\n",
       "            background-color:  #622ffe;\n",
       "            color:  #f1f1f1;\n",
       "        }    #T_5d8e260e_8eba_11ea_91f2_0242ac1c0002row9_col2 {\n",
       "            background-color:  #7e03ff;\n",
       "            color:  #f1f1f1;\n",
       "        }    #T_5d8e260e_8eba_11ea_91f2_0242ac1c0002row10_col1 {\n",
       "            background-color:  #6629fe;\n",
       "            color:  #f1f1f1;\n",
       "        }    #T_5d8e260e_8eba_11ea_91f2_0242ac1c0002row10_col2 {\n",
       "            background-color:  #6826fe;\n",
       "            color:  #f1f1f1;\n",
       "        }    #T_5d8e260e_8eba_11ea_91f2_0242ac1c0002row11_col1 {\n",
       "            background-color:  #6629fe;\n",
       "            color:  #f1f1f1;\n",
       "        }    #T_5d8e260e_8eba_11ea_91f2_0242ac1c0002row11_col2 {\n",
       "            background-color:  #5c38fd;\n",
       "            color:  #f1f1f1;\n",
       "        }    #T_5d8e260e_8eba_11ea_91f2_0242ac1c0002row12_col1 {\n",
       "            background-color:  #7216ff;\n",
       "            color:  #f1f1f1;\n",
       "        }    #T_5d8e260e_8eba_11ea_91f2_0242ac1c0002row12_col2 {\n",
       "            background-color:  #8000ff;\n",
       "            color:  #f1f1f1;\n",
       "        }    #T_5d8e260e_8eba_11ea_91f2_0242ac1c0002row13_col1 {\n",
       "            background-color:  #7413ff;\n",
       "            color:  #f1f1f1;\n",
       "        }    #T_5d8e260e_8eba_11ea_91f2_0242ac1c0002row13_col2 {\n",
       "            background-color:  #8000ff;\n",
       "            color:  #f1f1f1;\n",
       "        }    #T_5d8e260e_8eba_11ea_91f2_0242ac1c0002row14_col1 {\n",
       "            background-color:  #8000ff;\n",
       "            color:  #f1f1f1;\n",
       "        }    #T_5d8e260e_8eba_11ea_91f2_0242ac1c0002row14_col2 {\n",
       "            background-color:  #8000ff;\n",
       "            color:  #f1f1f1;\n",
       "        }</style><table id=\"T_5d8e260e_8eba_11ea_91f2_0242ac1c0002\" ><thead>    <tr>        <th class=\"blank level0\" ></th>        <th class=\"col_heading level0 col0\" >Country_Region</th>        <th class=\"col_heading level0 col1\" >ConfirmedCases</th>        <th class=\"col_heading level0 col2\" >Fatalities</th>    </tr></thead><tbody>\n",
       "                <tr>\n",
       "                        <th id=\"T_5d8e260e_8eba_11ea_91f2_0242ac1c0002level0_row0\" class=\"row_heading level0 row0\" >0</th>\n",
       "                        <td id=\"T_5d8e260e_8eba_11ea_91f2_0242ac1c0002row0_col0\" class=\"data row0 col0\" >Italy</td>\n",
       "                        <td id=\"T_5d8e260e_8eba_11ea_91f2_0242ac1c0002row0_col1\" class=\"data row0 col1\" >105792.000000</td>\n",
       "                        <td id=\"T_5d8e260e_8eba_11ea_91f2_0242ac1c0002row0_col2\" class=\"data row0 col2\" >12428.000000</td>\n",
       "            </tr>\n",
       "            <tr>\n",
       "                        <th id=\"T_5d8e260e_8eba_11ea_91f2_0242ac1c0002level0_row1\" class=\"row_heading level0 row1\" >1</th>\n",
       "                        <td id=\"T_5d8e260e_8eba_11ea_91f2_0242ac1c0002row1_col0\" class=\"data row1 col0\" >Spain</td>\n",
       "                        <td id=\"T_5d8e260e_8eba_11ea_91f2_0242ac1c0002row1_col1\" class=\"data row1 col1\" >95923.000000</td>\n",
       "                        <td id=\"T_5d8e260e_8eba_11ea_91f2_0242ac1c0002row1_col2\" class=\"data row1 col2\" >8464.000000</td>\n",
       "            </tr>\n",
       "            <tr>\n",
       "                        <th id=\"T_5d8e260e_8eba_11ea_91f2_0242ac1c0002level0_row2\" class=\"row_heading level0 row2\" >2</th>\n",
       "                        <td id=\"T_5d8e260e_8eba_11ea_91f2_0242ac1c0002row2_col0\" class=\"data row2 col0\" >US</td>\n",
       "                        <td id=\"T_5d8e260e_8eba_11ea_91f2_0242ac1c0002row2_col1\" class=\"data row2 col1\" >75833.000000</td>\n",
       "                        <td id=\"T_5d8e260e_8eba_11ea_91f2_0242ac1c0002row2_col2\" class=\"data row2 col2\" >1550.000000</td>\n",
       "            </tr>\n",
       "            <tr>\n",
       "                        <th id=\"T_5d8e260e_8eba_11ea_91f2_0242ac1c0002level0_row3\" class=\"row_heading level0 row3\" >3</th>\n",
       "                        <td id=\"T_5d8e260e_8eba_11ea_91f2_0242ac1c0002row3_col0\" class=\"data row3 col0\" >Germany</td>\n",
       "                        <td id=\"T_5d8e260e_8eba_11ea_91f2_0242ac1c0002row3_col1\" class=\"data row3 col1\" >71808.000000</td>\n",
       "                        <td id=\"T_5d8e260e_8eba_11ea_91f2_0242ac1c0002row3_col2\" class=\"data row3 col2\" >775.000000</td>\n",
       "            </tr>\n",
       "            <tr>\n",
       "                        <th id=\"T_5d8e260e_8eba_11ea_91f2_0242ac1c0002level0_row4\" class=\"row_heading level0 row4\" >4</th>\n",
       "                        <td id=\"T_5d8e260e_8eba_11ea_91f2_0242ac1c0002row4_col0\" class=\"data row4 col0\" >China</td>\n",
       "                        <td id=\"T_5d8e260e_8eba_11ea_91f2_0242ac1c0002row4_col1\" class=\"data row4 col1\" >67801.000000</td>\n",
       "                        <td id=\"T_5d8e260e_8eba_11ea_91f2_0242ac1c0002row4_col2\" class=\"data row4 col2\" >3187.000000</td>\n",
       "            </tr>\n",
       "            <tr>\n",
       "                        <th id=\"T_5d8e260e_8eba_11ea_91f2_0242ac1c0002level0_row5\" class=\"row_heading level0 row5\" >5</th>\n",
       "                        <td id=\"T_5d8e260e_8eba_11ea_91f2_0242ac1c0002row5_col0\" class=\"data row5 col0\" >France</td>\n",
       "                        <td id=\"T_5d8e260e_8eba_11ea_91f2_0242ac1c0002row5_col1\" class=\"data row5 col1\" >52128.000000</td>\n",
       "                        <td id=\"T_5d8e260e_8eba_11ea_91f2_0242ac1c0002row5_col2\" class=\"data row5 col2\" >3523.000000</td>\n",
       "            </tr>\n",
       "            <tr>\n",
       "                        <th id=\"T_5d8e260e_8eba_11ea_91f2_0242ac1c0002level0_row6\" class=\"row_heading level0 row6\" >6</th>\n",
       "                        <td id=\"T_5d8e260e_8eba_11ea_91f2_0242ac1c0002row6_col0\" class=\"data row6 col0\" >Iran</td>\n",
       "                        <td id=\"T_5d8e260e_8eba_11ea_91f2_0242ac1c0002row6_col1\" class=\"data row6 col1\" >44605.000000</td>\n",
       "                        <td id=\"T_5d8e260e_8eba_11ea_91f2_0242ac1c0002row6_col2\" class=\"data row6 col2\" >2898.000000</td>\n",
       "            </tr>\n",
       "            <tr>\n",
       "                        <th id=\"T_5d8e260e_8eba_11ea_91f2_0242ac1c0002level0_row7\" class=\"row_heading level0 row7\" >7</th>\n",
       "                        <td id=\"T_5d8e260e_8eba_11ea_91f2_0242ac1c0002row7_col0\" class=\"data row7 col0\" >United Kingdom</td>\n",
       "                        <td id=\"T_5d8e260e_8eba_11ea_91f2_0242ac1c0002row7_col1\" class=\"data row7 col1\" >25150.000000</td>\n",
       "                        <td id=\"T_5d8e260e_8eba_11ea_91f2_0242ac1c0002row7_col2\" class=\"data row7 col2\" >1789.000000</td>\n",
       "            </tr>\n",
       "            <tr>\n",
       "                        <th id=\"T_5d8e260e_8eba_11ea_91f2_0242ac1c0002level0_row8\" class=\"row_heading level0 row8\" >8</th>\n",
       "                        <td id=\"T_5d8e260e_8eba_11ea_91f2_0242ac1c0002row8_col0\" class=\"data row8 col0\" >Switzerland</td>\n",
       "                        <td id=\"T_5d8e260e_8eba_11ea_91f2_0242ac1c0002row8_col1\" class=\"data row8 col1\" >16605.000000</td>\n",
       "                        <td id=\"T_5d8e260e_8eba_11ea_91f2_0242ac1c0002row8_col2\" class=\"data row8 col2\" >433.000000</td>\n",
       "            </tr>\n",
       "            <tr>\n",
       "                        <th id=\"T_5d8e260e_8eba_11ea_91f2_0242ac1c0002level0_row9\" class=\"row_heading level0 row9\" >9</th>\n",
       "                        <td id=\"T_5d8e260e_8eba_11ea_91f2_0242ac1c0002row9_col0\" class=\"data row9 col0\" >Turkey</td>\n",
       "                        <td id=\"T_5d8e260e_8eba_11ea_91f2_0242ac1c0002row9_col1\" class=\"data row9 col1\" >13531.000000</td>\n",
       "                        <td id=\"T_5d8e260e_8eba_11ea_91f2_0242ac1c0002row9_col2\" class=\"data row9 col2\" >214.000000</td>\n",
       "            </tr>\n",
       "            <tr>\n",
       "                        <th id=\"T_5d8e260e_8eba_11ea_91f2_0242ac1c0002level0_row10\" class=\"row_heading level0 row10\" >10</th>\n",
       "                        <td id=\"T_5d8e260e_8eba_11ea_91f2_0242ac1c0002row10_col0\" class=\"data row10 col0\" >Belgium</td>\n",
       "                        <td id=\"T_5d8e260e_8eba_11ea_91f2_0242ac1c0002row10_col1\" class=\"data row10 col1\" >12775.000000</td>\n",
       "                        <td id=\"T_5d8e260e_8eba_11ea_91f2_0242ac1c0002row10_col2\" class=\"data row10 col2\" >705.000000</td>\n",
       "            </tr>\n",
       "            <tr>\n",
       "                        <th id=\"T_5d8e260e_8eba_11ea_91f2_0242ac1c0002level0_row11\" class=\"row_heading level0 row11\" >11</th>\n",
       "                        <td id=\"T_5d8e260e_8eba_11ea_91f2_0242ac1c0002row11_col0\" class=\"data row11 col0\" >Netherlands</td>\n",
       "                        <td id=\"T_5d8e260e_8eba_11ea_91f2_0242ac1c0002row11_col1\" class=\"data row11 col1\" >12595.000000</td>\n",
       "                        <td id=\"T_5d8e260e_8eba_11ea_91f2_0242ac1c0002row11_col2\" class=\"data row11 col2\" >1039.000000</td>\n",
       "            </tr>\n",
       "            <tr>\n",
       "                        <th id=\"T_5d8e260e_8eba_11ea_91f2_0242ac1c0002level0_row12\" class=\"row_heading level0 row12\" >12</th>\n",
       "                        <td id=\"T_5d8e260e_8eba_11ea_91f2_0242ac1c0002row12_col0\" class=\"data row12 col0\" >Austria</td>\n",
       "                        <td id=\"T_5d8e260e_8eba_11ea_91f2_0242ac1c0002row12_col1\" class=\"data row12 col1\" >10180.000000</td>\n",
       "                        <td id=\"T_5d8e260e_8eba_11ea_91f2_0242ac1c0002row12_col2\" class=\"data row12 col2\" >128.000000</td>\n",
       "            </tr>\n",
       "            <tr>\n",
       "                        <th id=\"T_5d8e260e_8eba_11ea_91f2_0242ac1c0002level0_row13\" class=\"row_heading level0 row13\" >13</th>\n",
       "                        <td id=\"T_5d8e260e_8eba_11ea_91f2_0242ac1c0002row13_col0\" class=\"data row13 col0\" >Korea, South</td>\n",
       "                        <td id=\"T_5d8e260e_8eba_11ea_91f2_0242ac1c0002row13_col1\" class=\"data row13 col1\" >9786.000000</td>\n",
       "                        <td id=\"T_5d8e260e_8eba_11ea_91f2_0242ac1c0002row13_col2\" class=\"data row13 col2\" >162.000000</td>\n",
       "            </tr>\n",
       "            <tr>\n",
       "                        <th id=\"T_5d8e260e_8eba_11ea_91f2_0242ac1c0002level0_row14\" class=\"row_heading level0 row14\" >14</th>\n",
       "                        <td id=\"T_5d8e260e_8eba_11ea_91f2_0242ac1c0002row14_col0\" class=\"data row14 col0\" >Portugal</td>\n",
       "                        <td id=\"T_5d8e260e_8eba_11ea_91f2_0242ac1c0002row14_col1\" class=\"data row14 col1\" >7443.000000</td>\n",
       "                        <td id=\"T_5d8e260e_8eba_11ea_91f2_0242ac1c0002row14_col2\" class=\"data row14 col2\" >160.000000</td>\n",
       "            </tr>\n",
       "    </tbody></table>"
      ],
      "text/plain": [
       "<pandas.io.formats.style.Styler at 0x7efc77212ef0>"
      ]
     },
     "execution_count": 13,
     "metadata": {
      "tags": []
     },
     "output_type": "execute_result"
    }
   ],
   "source": [
    "# plot the virus situation in different countries\n",
    "train.loc[:, ['Country_Region', 'ConfirmedCases', 'Fatalities']].groupby(\n",
    "    ['Country_Region']).max().sort_values(\n",
    "        by='ConfirmedCases',\n",
    "        ascending=False).reset_index()[:15].style.background_gradient(\n",
    "            cmap='rainbow')"
   ]
  },
  {
   "cell_type": "code",
   "execution_count": 14,
   "metadata": {
    "colab": {
     "base_uri": "https://localhost:8080/",
     "height": 514
    },
    "colab_type": "code",
    "id": "IBBMItpTr39F",
    "outputId": "3652e389-882d-46aa-d5c0-93ba5bd9d530"
   },
   "outputs": [
    {
     "data": {
      "text/plain": [
       "<matplotlib.axes._subplots.AxesSubplot at 0x7efc74066a58>"
      ]
     },
     "execution_count": 14,
     "metadata": {
      "tags": []
     },
     "output_type": "execute_result"
    },
    {
     "data": {
      "image/png": "[encoded data removed]",
      "text/plain": [
       "<Figure size 432x432 with 2 Axes>"
      ]
     },
     "metadata": {
      "needs_background": "light",
      "tags": []
     },
     "output_type": "display_data"
    }
   ],
   "source": [
    "# missing value visualisation\n",
    "msno.matrix(train, labels=True, figsize=(6, 6))\n",
    "# below diagram shows that \"Province_State\"has many missing values"
   ]
  },
  {
   "cell_type": "code",
   "execution_count": 15,
   "metadata": {
    "colab": {
     "base_uri": "https://localhost:8080/",
     "height": 636
    },
    "colab_type": "code",
    "id": "2lb2BJnQsYD9",
    "outputId": "1fd9ac35-f68f-45e3-c7a0-02b6a575029f"
   },
   "outputs": [
    {
     "data": {
      "image/png": "[encoded data removed]",
      "text/plain": [
       "<Figure size 792x648 with 2 Axes>"
      ]
     },
     "metadata": {
      "tags": []
     },
     "output_type": "display_data"
    }
   ],
   "source": [
    "# plot feature importance\n",
    "sns.set(style=\"white\")\n",
    "corr = train.corr()\n",
    "# set up figure\n",
    "f, ax = plt.subplots(figsize=(11, 9))\n",
    "cmap = sns.diverging_palette(220, 10, as_cmap=True)\n",
    "sns.heatmap(corr,\n",
    "            cmap=cmap,\n",
    "            vmax=.3,\n",
    "            center=0,\n",
    "            square=True,\n",
    "            linewidths=.5,\n",
    "            cbar_kws={\"shrink\": .5})\n",
    "plt.title(\"Correlation Matrix\")\n",
    "plt.show()\n",
    "# below diagram shows that all features are more or less relevant to the label."
   ]
  },
  {
   "cell_type": "markdown",
   "metadata": {
    "colab_type": "text",
    "id": "_BcRJ23VghF0"
   },
   "source": [
    "## **Preprocessing** ##"
   ]
  },
  {
   "cell_type": "code",
   "execution_count": 0,
   "metadata": {
    "colab": {},
    "colab_type": "code",
    "id": "X4LlB-maek7E"
   },
   "outputs": [],
   "source": [
    "# change \"Date\" format and set index\n",
    "train['Date'] = pd.to_datetime(train['Date'])\n",
    "test['Date'] = pd.to_datetime(test['Date'])\n",
    "train = train.set_index(['Date'])\n",
    "test = test.set_index(['Date'])"
   ]
  },
  {
   "cell_type": "code",
   "execution_count": 0,
   "metadata": {
    "colab": {},
    "colab_type": "code",
    "id": "OLL6vroQek7m"
   },
   "outputs": [],
   "source": [
    "# create time series features from datetime index\n",
    "# Reference: https://www.kaggle.com/resheto/covid-19-prediction-of-deltas-using-extended-data/output\n",
    "def create_time_features(df):\n",
    "    df['date'] = df.index\n",
    "    df['hour'] = df['date'].dt.hour\n",
    "    df['dayofweek'] = df['date'].dt.dayofweek\n",
    "    df['quarter'] = df['date'].dt.quarter\n",
    "    df['month'] = df['date'].dt.month\n",
    "    df['year'] = df['date'].dt.year\n",
    "    df['dayofyear'] = df['date'].dt.dayofyear\n",
    "    df['dayofmonth'] = df['date'].dt.day\n",
    "    df['weekofyear'] = df['date'].dt.weekofyear\n",
    "\n",
    "    X = df[[\n",
    "        'hour', 'dayofweek', 'quarter', 'month', 'year', 'dayofyear',\n",
    "        'dayofmonth', 'weekofyear'\n",
    "    ]]\n",
    "    return X"
   ]
  },
  {
   "cell_type": "code",
   "execution_count": 18,
   "metadata": {
    "colab": {
     "base_uri": "https://localhost:8080/",
     "height": 235
    },
    "colab_type": "code",
    "id": "Otv8vzCZek7v",
    "outputId": "84c4b9b4-e1cf-474a-abb3-ce66b1d5c787"
   },
   "outputs": [
    {
     "data": {
      "text/html": [
       "<div>\n",
       "<style scoped>\n",
       "    .dataframe tbody tr th:only-of-type {\n",
       "        vertical-align: middle;\n",
       "    }\n",
       "\n",
       "    .dataframe tbody tr th {\n",
       "        vertical-align: top;\n",
       "    }\n",
       "\n",
       "    .dataframe thead th {\n",
       "        text-align: right;\n",
       "    }\n",
       "</style>\n",
       "<table border=\"1\" class=\"dataframe\">\n",
       "  <thead>\n",
       "    <tr style=\"text-align: right;\">\n",
       "      <th></th>\n",
       "      <th>hour</th>\n",
       "      <th>dayofweek</th>\n",
       "      <th>quarter</th>\n",
       "      <th>month</th>\n",
       "      <th>year</th>\n",
       "      <th>dayofyear</th>\n",
       "      <th>dayofmonth</th>\n",
       "      <th>weekofyear</th>\n",
       "    </tr>\n",
       "    <tr>\n",
       "      <th>Date</th>\n",
       "      <th></th>\n",
       "      <th></th>\n",
       "      <th></th>\n",
       "      <th></th>\n",
       "      <th></th>\n",
       "      <th></th>\n",
       "      <th></th>\n",
       "      <th></th>\n",
       "    </tr>\n",
       "  </thead>\n",
       "  <tbody>\n",
       "    <tr>\n",
       "      <th>2020-03-19</th>\n",
       "      <td>0</td>\n",
       "      <td>3</td>\n",
       "      <td>1</td>\n",
       "      <td>3</td>\n",
       "      <td>2020</td>\n",
       "      <td>79</td>\n",
       "      <td>19</td>\n",
       "      <td>12</td>\n",
       "    </tr>\n",
       "    <tr>\n",
       "      <th>2020-03-20</th>\n",
       "      <td>0</td>\n",
       "      <td>4</td>\n",
       "      <td>1</td>\n",
       "      <td>3</td>\n",
       "      <td>2020</td>\n",
       "      <td>80</td>\n",
       "      <td>20</td>\n",
       "      <td>12</td>\n",
       "    </tr>\n",
       "    <tr>\n",
       "      <th>2020-03-21</th>\n",
       "      <td>0</td>\n",
       "      <td>5</td>\n",
       "      <td>1</td>\n",
       "      <td>3</td>\n",
       "      <td>2020</td>\n",
       "      <td>81</td>\n",
       "      <td>21</td>\n",
       "      <td>12</td>\n",
       "    </tr>\n",
       "    <tr>\n",
       "      <th>2020-03-22</th>\n",
       "      <td>0</td>\n",
       "      <td>6</td>\n",
       "      <td>1</td>\n",
       "      <td>3</td>\n",
       "      <td>2020</td>\n",
       "      <td>82</td>\n",
       "      <td>22</td>\n",
       "      <td>12</td>\n",
       "    </tr>\n",
       "    <tr>\n",
       "      <th>2020-03-23</th>\n",
       "      <td>0</td>\n",
       "      <td>0</td>\n",
       "      <td>1</td>\n",
       "      <td>3</td>\n",
       "      <td>2020</td>\n",
       "      <td>83</td>\n",
       "      <td>23</td>\n",
       "      <td>13</td>\n",
       "    </tr>\n",
       "  </tbody>\n",
       "</table>\n",
       "</div>"
      ],
      "text/plain": [
       "            hour  dayofweek  quarter  ...  dayofyear  dayofmonth  weekofyear\n",
       "Date                                  ...                                   \n",
       "2020-03-19     0          3        1  ...         79          19          12\n",
       "2020-03-20     0          4        1  ...         80          20          12\n",
       "2020-03-21     0          5        1  ...         81          21          12\n",
       "2020-03-22     0          6        1  ...         82          22          12\n",
       "2020-03-23     0          0        1  ...         83          23          13\n",
       "\n",
       "[5 rows x 8 columns]"
      ]
     },
     "execution_count": 18,
     "metadata": {
      "tags": []
     },
     "output_type": "execute_result"
    }
   ],
   "source": [
    "create_time_features(train).head()\n",
    "create_time_features(test).head()"
   ]
  },
  {
   "cell_type": "code",
   "execution_count": 19,
   "metadata": {
    "colab": {
     "base_uri": "https://localhost:8080/",
     "height": 323
    },
    "colab_type": "code",
    "id": "TB1scAbStUAn",
    "outputId": "7ada94ec-09f3-4402-9848-2f9ebd6e87d7"
   },
   "outputs": [
    {
     "data": {
      "text/plain": [
       "ConfirmedCases    1.000000\n",
       "Fatalities        0.874035\n",
       "dayofyear         0.114872\n",
       "weekofyear        0.114539\n",
       "pop               0.097579\n",
       "month             0.086171\n",
       "medianage         0.076326\n",
       "dayofmonth        0.059037\n",
       "lung              0.053900\n",
       "smokers           0.039109\n",
       "sex65plus         0.022442\n",
       "dayofweek        -0.005113\n",
       "density          -0.006398\n",
       "Id               -0.028293\n",
       "hour                   NaN\n",
       "quarter                NaN\n",
       "year                   NaN\n",
       "Name: ConfirmedCases, dtype: float64"
      ]
     },
     "execution_count": 19,
     "metadata": {
      "tags": []
     },
     "output_type": "execute_result"
    }
   ],
   "source": [
    "# check feature importance\n",
    "confirmed_corr = train.corr()['ConfirmedCases']\n",
    "confirmed_corr.sort_values(ascending=False)\n",
    "#below matrix shows \"hour\" ,\"quarter\" and \"year\" are either null values or same values"
   ]
  },
  {
   "cell_type": "code",
   "execution_count": 0,
   "metadata": {
    "colab": {},
    "colab_type": "code",
    "id": "CSuSk5txek8G"
   },
   "outputs": [],
   "source": [
    "# drop useless colums\n",
    "train.drop(columns=[\n",
    "    \"date\", \"dayofweek\", \"hour\", \"quarter\", \"year\", \"Province_State\", \"Id\"\n",
    "],\n",
    "           axis=1,\n",
    "           inplace=True)\n",
    "test.drop(columns=[\n",
    "    \"date\", \"dayofweek\", \"hour\", \"quarter\", \"year\", \"Province_State\",\n",
    "    \"ForecastId\"\n",
    "],\n",
    "          axis=1,\n",
    "          inplace=True)"
   ]
  },
  {
   "cell_type": "code",
   "execution_count": 21,
   "metadata": {
    "colab": {
     "base_uri": "https://localhost:8080/",
     "height": 340
    },
    "colab_type": "code",
    "id": "6CnCnquVvKdx",
    "outputId": "4cb5f7d1-7974-4925-90b8-3b203951be72"
   },
   "outputs": [
    {
     "data": {
      "text/html": [
       "<div>\n",
       "<style scoped>\n",
       "    .dataframe tbody tr th:only-of-type {\n",
       "        vertical-align: middle;\n",
       "    }\n",
       "\n",
       "    .dataframe tbody tr th {\n",
       "        vertical-align: top;\n",
       "    }\n",
       "\n",
       "    .dataframe thead th {\n",
       "        text-align: right;\n",
       "    }\n",
       "</style>\n",
       "<table border=\"1\" class=\"dataframe\">\n",
       "  <thead>\n",
       "    <tr style=\"text-align: right;\">\n",
       "      <th></th>\n",
       "      <th>Country_Region</th>\n",
       "      <th>ConfirmedCases</th>\n",
       "      <th>Fatalities</th>\n",
       "      <th>pop</th>\n",
       "      <th>medianage</th>\n",
       "      <th>sex65plus</th>\n",
       "      <th>lung</th>\n",
       "      <th>smokers</th>\n",
       "      <th>density</th>\n",
       "      <th>month</th>\n",
       "      <th>dayofyear</th>\n",
       "      <th>dayofmonth</th>\n",
       "      <th>weekofyear</th>\n",
       "    </tr>\n",
       "    <tr>\n",
       "      <th>Date</th>\n",
       "      <th></th>\n",
       "      <th></th>\n",
       "      <th></th>\n",
       "      <th></th>\n",
       "      <th></th>\n",
       "      <th></th>\n",
       "      <th></th>\n",
       "      <th></th>\n",
       "      <th></th>\n",
       "      <th></th>\n",
       "      <th></th>\n",
       "      <th></th>\n",
       "      <th></th>\n",
       "    </tr>\n",
       "  </thead>\n",
       "  <tbody>\n",
       "    <tr>\n",
       "      <th>2020-01-22</th>\n",
       "      <td>Afghanistan</td>\n",
       "      <td>0.0</td>\n",
       "      <td>0.0</td>\n",
       "      <td>38928346</td>\n",
       "      <td>18.0</td>\n",
       "      <td>0.85</td>\n",
       "      <td>37.62</td>\n",
       "      <td>24.0</td>\n",
       "      <td>60.0</td>\n",
       "      <td>1</td>\n",
       "      <td>22</td>\n",
       "      <td>22</td>\n",
       "      <td>4</td>\n",
       "    </tr>\n",
       "    <tr>\n",
       "      <th>2020-01-23</th>\n",
       "      <td>Afghanistan</td>\n",
       "      <td>0.0</td>\n",
       "      <td>0.0</td>\n",
       "      <td>38928346</td>\n",
       "      <td>18.0</td>\n",
       "      <td>0.85</td>\n",
       "      <td>37.62</td>\n",
       "      <td>24.0</td>\n",
       "      <td>60.0</td>\n",
       "      <td>1</td>\n",
       "      <td>23</td>\n",
       "      <td>23</td>\n",
       "      <td>4</td>\n",
       "    </tr>\n",
       "    <tr>\n",
       "      <th>2020-01-24</th>\n",
       "      <td>Afghanistan</td>\n",
       "      <td>0.0</td>\n",
       "      <td>0.0</td>\n",
       "      <td>38928346</td>\n",
       "      <td>18.0</td>\n",
       "      <td>0.85</td>\n",
       "      <td>37.62</td>\n",
       "      <td>24.0</td>\n",
       "      <td>60.0</td>\n",
       "      <td>1</td>\n",
       "      <td>24</td>\n",
       "      <td>24</td>\n",
       "      <td>4</td>\n",
       "    </tr>\n",
       "    <tr>\n",
       "      <th>2020-01-25</th>\n",
       "      <td>Afghanistan</td>\n",
       "      <td>0.0</td>\n",
       "      <td>0.0</td>\n",
       "      <td>38928346</td>\n",
       "      <td>18.0</td>\n",
       "      <td>0.85</td>\n",
       "      <td>37.62</td>\n",
       "      <td>24.0</td>\n",
       "      <td>60.0</td>\n",
       "      <td>1</td>\n",
       "      <td>25</td>\n",
       "      <td>25</td>\n",
       "      <td>4</td>\n",
       "    </tr>\n",
       "    <tr>\n",
       "      <th>2020-01-26</th>\n",
       "      <td>Afghanistan</td>\n",
       "      <td>0.0</td>\n",
       "      <td>0.0</td>\n",
       "      <td>38928346</td>\n",
       "      <td>18.0</td>\n",
       "      <td>0.85</td>\n",
       "      <td>37.62</td>\n",
       "      <td>24.0</td>\n",
       "      <td>60.0</td>\n",
       "      <td>1</td>\n",
       "      <td>26</td>\n",
       "      <td>26</td>\n",
       "      <td>4</td>\n",
       "    </tr>\n",
       "  </tbody>\n",
       "</table>\n",
       "</div>"
      ],
      "text/plain": [
       "           Country_Region  ConfirmedCases  ...  dayofmonth  weekofyear\n",
       "Date                                       ...                        \n",
       "2020-01-22    Afghanistan             0.0  ...          22           4\n",
       "2020-01-23    Afghanistan             0.0  ...          23           4\n",
       "2020-01-24    Afghanistan             0.0  ...          24           4\n",
       "2020-01-25    Afghanistan             0.0  ...          25           4\n",
       "2020-01-26    Afghanistan             0.0  ...          26           4\n",
       "\n",
       "[5 rows x 13 columns]"
      ]
     },
     "execution_count": 21,
     "metadata": {
      "tags": []
     },
     "output_type": "execute_result"
    }
   ],
   "source": [
    "train.head()\n",
    "# now there is only one categorical feature (\"Country_Region\")"
   ]
  },
  {
   "cell_type": "markdown",
   "metadata": {
    "colab_type": "text",
    "id": "5-KroduDvNXo"
   },
   "source": [
    "## Encode ##\n"
   ]
  },
  {
   "cell_type": "code",
   "execution_count": 0,
   "metadata": {
    "colab": {},
    "colab_type": "code",
    "id": "14h86vY_ek8z"
   },
   "outputs": [],
   "source": [
    "# encode categorical feature\n",
    "le = LabelEncoder()\n",
    "\n",
    "\n",
    "def labelEncoder(df):\n",
    "    for c in df.columns:\n",
    "        if df.dtypes[c] == object:\n",
    "            le.fit(df[c].astype(str))\n",
    "            df[c] = le.transform(df[c].astype(str))\n",
    "    return df"
   ]
  },
  {
   "cell_type": "code",
   "execution_count": 0,
   "metadata": {
    "colab": {},
    "colab_type": "code",
    "id": "eZh_4_-Sek83"
   },
   "outputs": [],
   "source": [
    "train = labelEncoder(train)\n",
    "test = labelEncoder(test)"
   ]
  },
  {
   "cell_type": "code",
   "execution_count": 0,
   "metadata": {
    "colab": {},
    "colab_type": "code",
    "id": "NFdwm3TEek9C"
   },
   "outputs": [],
   "source": [
    "# split label and features\n",
    "x_train = train[[\n",
    "    'Country_Region', 'pop', 'medianage', 'sex65plus', 'lung', 'smokers',\n",
    "    'density', 'month', 'dayofyear', 'dayofmonth', 'weekofyear'\n",
    "]]\n",
    "y1 = train[['ConfirmedCases']]\n",
    "y2 = train[['Fatalities']]\n",
    "x_test = test[[\n",
    "    'Country_Region', 'pop', 'medianage', 'sex65plus', 'lung', 'smokers',\n",
    "    'density', 'month', 'dayofyear', 'dayofmonth', 'weekofyear'\n",
    "]]"
   ]
  },
  {
   "cell_type": "markdown",
   "metadata": {
    "colab_type": "text",
    "id": "peHR4JaNvpqa"
   },
   "source": [
    "## **Model Comparison** ##"
   ]
  },
  {
   "cell_type": "code",
   "execution_count": 25,
   "metadata": {
    "colab": {
     "base_uri": "https://localhost:8080/",
     "height": 102
    },
    "colab_type": "code",
    "id": "YObAsnglJl2g",
    "outputId": "52758f7d-d30a-4473-870d-b4c3c01fe83d"
   },
   "outputs": [
    {
     "name": "stdout",
     "output_type": "stream",
     "text": [
      "current model：LinearRegression,cross validation RMSE:  4308.859023106878\n",
      "current model：XGBoost,cross validation RMSE:  3497.4999765342427\n",
      "current model：RandomForestRegressor,cross validation RMSE:  3574.7194666664022\n",
      "current model：ElasticNet,cross validation RMSE:  4307.912925575243\n",
      "the best model： XGBoost\n"
     ]
    }
   ],
   "source": [
    "# use cross validation to compare models' performace\n",
    "models = [\n",
    "    LinearRegression(),\n",
    "    xgboost.XGBRegressor(objective='reg:squarederror'),\n",
    "    RandomForestRegressor(),\n",
    "    ElasticNet()\n",
    "]\n",
    "models_name = [\n",
    "    \"LinearRegression\", \"XGBoost\", \"RandomForestRegressor\", \"ElasticNet\"\n",
    "]\n",
    "score_list = []\n",
    "X_train, X_test, y_train, y_test = train_test_split(x_train,\n",
    "                                                    y1,\n",
    "                                                    test_size=0.4,\n",
    "                                                    random_state=0)\n",
    "\n",
    "# see each model's performance\n",
    "for index, model in enumerate(models):\n",
    "    print('current model：{}'.format(models_name[index]), end=\",\")\n",
    "    scores = cross_val_score(model,\n",
    "                             X_train,\n",
    "                             y_train,\n",
    "                             cv=5,\n",
    "                             scoring=\"neg_mean_squared_error\")\n",
    "    print(\"cross validation RMSE: \", np.sqrt((-1) * scores).mean())\n",
    "    score_list.append(np.sqrt((-1) * scores).mean())\n",
    "print(\"the best model：\", models_name[np.argmin(score_list)])"
   ]
  },
  {
   "cell_type": "markdown",
   "metadata": {
    "colab_type": "text",
    "id": "Axh8dNZuwBYD"
   },
   "source": [
    "## **Fine Tune** ##"
   ]
  },
  {
   "cell_type": "code",
   "execution_count": 26,
   "metadata": {
    "colab": {
     "base_uri": "https://localhost:8080/",
     "height": 51
    },
    "colab_type": "code",
    "id": "h65Sp8hJH6FD",
    "outputId": "46b4bc8a-256c-436c-91cc-f6f3972840de"
   },
   "outputs": [
    {
     "name": "stdout",
     "output_type": "stream",
     "text": [
      "[10:24:48] WARNING: /workspace/src/objective/regression_obj.cu:152: reg:linear is now deprecated in favor of reg:squarederror.\n",
      "Best for y: -4244.056668 using {'learning_rate': 0.3, 'max_depth': 6, 'n_estimators': 100}\n"
     ]
    }
   ],
   "source": [
    "# use a grid search to find appropriate parameters\n",
    "model = xgboost.XGBRegressor(random_state=42)\n",
    "learning_rate_grid = [0.2, 0.3, 0.5]\n",
    "n_estimators_grid = [100, 200, 250]\n",
    "max_depth_grid = [2, 4, 6]\n",
    "param_grid = dict(learning_rate=learning_rate_grid,\n",
    "                  max_depth=max_depth_grid,\n",
    "                  n_estimators=n_estimators_grid)\n",
    "\n",
    "grid_search = GridSearchCV(model,\n",
    "                           param_grid,\n",
    "                           scoring=\"neg_root_mean_squared_error\",\n",
    "                           n_jobs=-1,\n",
    "                           cv=3,\n",
    "                           verbose=0)\n",
    "grid_result = grid_search.fit(x_train, y1)\n",
    "print(\"Best for y: %f using %s\" %\n",
    "      (grid_result.best_score_, grid_result.best_params_))"
   ]
  },
  {
   "cell_type": "markdown",
   "metadata": {
    "colab_type": "text",
    "id": "iktM69AFyZdb"
   },
   "source": [
    "## **Train** ##"
   ]
  },
  {
   "cell_type": "code",
   "execution_count": 27,
   "metadata": {
    "colab": {
     "base_uri": "https://localhost:8080/",
     "height": 153
    },
    "colab_type": "code",
    "id": "78bJ1TFoek9J",
    "outputId": "67181ab2-f8c0-4e36-a285-4b9d184c3e42"
   },
   "outputs": [
    {
     "data": {
      "text/plain": [
       "XGBRegressor(base_score=0.5, booster='gbtree', colsample_bylevel=1,\n",
       "             colsample_bynode=1, colsample_bytree=1, gamma=0,\n",
       "             importance_type='gain', learning_rate=0.3, max_delta_step=0,\n",
       "             max_depth=6, min_child_weight=1, missing=None, n_estimators=100,\n",
       "             n_jobs=1, nthread=None, num_parallel_tree=1,\n",
       "             objective='reg:squarederror', random_state=0, reg_alpha=0,\n",
       "             reg_lambda=1, scale_pos_weight=1, seed=None, silent=None,\n",
       "             subsample=1, verbosity=1)"
      ]
     },
     "execution_count": 27,
     "metadata": {
      "tags": []
     },
     "output_type": "execute_result"
    }
   ],
   "source": [
    "model = xgboost.XGBRegressor(\n",
    "    learning_rate=grid_result.best_params_['learning_rate'],\n",
    "    n_estimators=grid_result.best_params_['n_estimators'],\n",
    "    max_depth=grid_result.best_params_['max_depth'],\n",
    "    num_parallel_tree=1,\n",
    "    objective='reg:squarederror')\n",
    "model.fit(x_train, y1)"
   ]
  },
  {
   "cell_type": "markdown",
   "metadata": {
    "colab_type": "text",
    "id": "6O3s6JV9ydHS"
   },
   "source": [
    "## **Feature and Model Assessment** ##"
   ]
  },
  {
   "cell_type": "code",
   "execution_count": 28,
   "metadata": {
    "colab": {
     "base_uri": "https://localhost:8080/",
     "height": 301
    },
    "colab_type": "code",
    "id": "0fph3SJ2ygtI",
    "outputId": "8914f206-0c78-4fb9-ad73-745f05ca49a5"
   },
   "outputs": [
    {
     "data": {
      "image/png": "[encoded data removed]",
      "text/plain": [
       "<Figure size 432x288 with 1 Axes>"
      ]
     },
     "metadata": {
      "tags": []
     },
     "output_type": "display_data"
    }
   ],
   "source": [
    "# plot the feature importance\n",
    "plot = plot_importance(model, height=0.2)\n",
    "# below diagram shows \"dayofyear\" is the most important feature"
   ]
  },
  {
   "cell_type": "code",
   "execution_count": 0,
   "metadata": {
    "colab": {},
    "colab_type": "code",
    "id": "MtSgsnkG26NP"
   },
   "outputs": [],
   "source": [
    "# plot a learning curve to see: whether the model performs better with increasing training values & if the model is suffering from over- or under-fitting\n",
    "# reference: Geron,A.(2019).Hands-on Machine Learning with Scikit-Learn,Keras and TensorFlow.O'reilly.\n",
    "def plot_learning_curves(model, X, y):\n",
    "    X_train, X_val, y_train, y_val = train_test_split(X, y, test_size=0.2)\n",
    "    train_errors, val_errors = [], []\n",
    "\n",
    "    # Create training and test scores for various training set sizes\n",
    "    for m in range(1, len(X_train)):\n",
    "        model.fit(X_train[:m], y_train[:m])\n",
    "        y_train_predict = model.predict(X_train[:m])\n",
    "        y_val_predict = model.predict(X_val)\n",
    "\n",
    "        # store training and validation erros\n",
    "        train_errors.append(mean_squared_error(y_train[:m], y_train_predict))\n",
    "        val_errors.append(mean_squared_error(y_val, y_val_predict))\n",
    "\n",
    "    # plot set up\n",
    "    plt.figure(figsize=(14, 5))\n",
    "    plt.plot(np.sqrt(train_errors), \"r-+\", linewidth=2, label=\"train\")\n",
    "    plt.plot(np.sqrt(val_errors), \"b-\", linewidth=3, label=\"val\")\n",
    "    plt.xlabel('Training set size')\n",
    "    plt.ylabel('RMSE')\n",
    "    plt.legend(loc=\"upper right\")\n",
    "    plt.title(\"Learning Curve\")"
   ]
  },
  {
   "cell_type": "code",
   "execution_count": 30,
   "metadata": {
    "colab": {
     "base_uri": "https://localhost:8080/",
     "height": 355
    },
    "colab_type": "code",
    "id": "XybwBYPbFjTS",
    "outputId": "8dfd3d5f-e442-45a2-d2c6-c20e54398563"
   },
   "outputs": [
    {
     "data": {
      "image/png": "[encoded data removed]",
      "text/plain": [
       "<Figure size 1008x360 with 1 Axes>"
      ]
     },
     "metadata": {
      "tags": []
     },
     "output_type": "display_data"
    }
   ],
   "source": [
    "plot_learning_curves(model, x_train, y1)\n",
    "# below diagram shows the model is roughly balanced"
   ]
  },
  {
   "cell_type": "markdown",
   "metadata": {
    "colab_type": "text",
    "id": "N1KYhxHDyhbJ"
   },
   "source": [
    "## **Predict and Save the file** ##"
   ]
  },
  {
   "cell_type": "code",
   "execution_count": 0,
   "metadata": {
    "colab": {},
    "colab_type": "code",
    "id": "2eVsXW-Cek9T"
   },
   "outputs": [],
   "source": [
    "# predict confirmed cases\n",
    "model.fit(x_train, y1)\n",
    "prediction1 = model.predict(x_test)\n",
    "prediction1 = pd.DataFrame(prediction1)\n",
    "prediction1.columns = [\"ConfirmedCases_prediction\"]"
   ]
  },
  {
   "cell_type": "code",
   "execution_count": 0,
   "metadata": {
    "colab": {},
    "colab_type": "code",
    "id": "ZyOld4EQek9a"
   },
   "outputs": [],
   "source": [
    "# predict fatalities\n",
    "model.fit(x_train, y2)\n",
    "prediction2 = model.predict(x_test)\n",
    "prediction2 = pd.DataFrame(prediction2)\n",
    "prediction2.columns = [\"Death_prediction\"]"
   ]
  },
  {
   "cell_type": "code",
   "execution_count": 0,
   "metadata": {
    "colab": {},
    "colab_type": "code",
    "id": "L_DS7aGDek9h"
   },
   "outputs": [],
   "source": [
    "sub_new = test1[[\"ForecastId\"]]\n",
    "submit = pd.concat([prediction1, prediction2, sub_new], axis=1)\n",
    "submit.columns = ['ConfirmedCases', 'Fatalities', 'ForecastId']\n",
    "submit = submit[['ForecastId', 'ConfirmedCases', 'Fatalities']]"
   ]
  },
  {
   "cell_type": "code",
   "execution_count": 41,
   "metadata": {
    "colab": {
     "base_uri": "https://localhost:8080/",
     "height": 204
    },
    "colab_type": "code",
    "id": "-89P-uZ2ek9x",
    "outputId": "ce9ea6f9-3e5f-46f1-8587-97dae4b0f54b"
   },
   "outputs": [
    {
     "data": {
      "text/html": [
       "<div>\n",
       "<style scoped>\n",
       "    .dataframe tbody tr th:only-of-type {\n",
       "        vertical-align: middle;\n",
       "    }\n",
       "\n",
       "    .dataframe tbody tr th {\n",
       "        vertical-align: top;\n",
       "    }\n",
       "\n",
       "    .dataframe thead th {\n",
       "        text-align: right;\n",
       "    }\n",
       "</style>\n",
       "<table border=\"1\" class=\"dataframe\">\n",
       "  <thead>\n",
       "    <tr style=\"text-align: right;\">\n",
       "      <th></th>\n",
       "      <th>ForecastId</th>\n",
       "      <th>ConfirmedCases</th>\n",
       "      <th>Fatalities</th>\n",
       "    </tr>\n",
       "  </thead>\n",
       "  <tbody>\n",
       "    <tr>\n",
       "      <th>0</th>\n",
       "      <td>1</td>\n",
       "      <td>30.995928</td>\n",
       "      <td>1.568843</td>\n",
       "    </tr>\n",
       "    <tr>\n",
       "      <th>1</th>\n",
       "      <td>2</td>\n",
       "      <td>48.992489</td>\n",
       "      <td>-0.621636</td>\n",
       "    </tr>\n",
       "    <tr>\n",
       "      <th>2</th>\n",
       "      <td>3</td>\n",
       "      <td>34.242706</td>\n",
       "      <td>1.740240</td>\n",
       "    </tr>\n",
       "    <tr>\n",
       "      <th>3</th>\n",
       "      <td>4</td>\n",
       "      <td>45.026318</td>\n",
       "      <td>1.508695</td>\n",
       "    </tr>\n",
       "    <tr>\n",
       "      <th>4</th>\n",
       "      <td>5</td>\n",
       "      <td>58.427799</td>\n",
       "      <td>2.088920</td>\n",
       "    </tr>\n",
       "  </tbody>\n",
       "</table>\n",
       "</div>"
      ],
      "text/plain": [
       "   ForecastId  ConfirmedCases  Fatalities\n",
       "0           1       30.995928    1.568843\n",
       "1           2       48.992489   -0.621636\n",
       "2           3       34.242706    1.740240\n",
       "3           4       45.026318    1.508695\n",
       "4           5       58.427799    2.088920"
      ]
     },
     "execution_count": 41,
     "metadata": {
      "tags": []
     },
     "output_type": "execute_result"
    }
   ],
   "source": [
    "# Final submission\n",
    "submit.head(5)"
   ]
  },
  {
   "cell_type": "code",
   "execution_count": 0,
   "metadata": {
    "colab": {},
    "colab_type": "code",
    "id": "4g7-BJJJek96"
   },
   "outputs": [],
   "source": [
    "submit.to_csv(\"submission_final.csv\", index=False)"
   ]
  },
  {
   "cell_type": "code",
   "execution_count": 0,
   "metadata": {
    "colab": {},
    "colab_type": "code",
    "id": "GPh0S-rIek9-"
   },
   "outputs": [],
   "source": [
    "from google.colab import files\n",
    "files.download(\"submission_final.csv\")"
   ]
  }
 ],
 "metadata": {
  "colab": {
   "collapsed_sections": [],
   "name": "Global Forecasting 19000096.ipynb",
   "provenance": []
  },
  "kernelspec": {
   "display_name": "Python 3",
   "language": "python",
   "name": "python3"
  },
  "language_info": {
   "codemirror_mode": {
    "name": "ipython",
    "version": 3
   },
   "file_extension": ".py",
   "mimetype": "text/x-python",
   "name": "python",
   "nbconvert_exporter": "python",
   "pygments_lexer": "ipython3",
   "version": "3.8.1"
  }
 },
 "nbformat": 4,
 "nbformat_minor": 1
}
